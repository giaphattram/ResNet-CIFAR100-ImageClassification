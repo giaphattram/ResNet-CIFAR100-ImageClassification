{
 "cells": [
  {
   "cell_type": "code",
   "execution_count": 1,
   "metadata": {},
   "outputs": [
    {
     "name": "stderr",
     "output_type": "stream",
     "text": [
      "50000it [00:03, 14872.57it/s]\n",
      "50000it [00:03, 15358.19it/s]\n",
      "50000it [00:03, 15359.60it/s]\n"
     ]
    }
   ],
   "source": [
    "import torch\n",
    "import torch.nn as nn\n",
    "from torchvision import transforms\n",
    "import torch.optim as optim\n",
    "from model import ResNetCIFAR\n",
    "from data_loader import get_loader\n",
    "import math\n",
    "import sys\n",
    "import os"
   ]
  },
  {
   "cell_type": "code",
   "execution_count": 2,
   "metadata": {},
   "outputs": [
    {
     "name": "stderr",
     "output_type": "stream",
     "text": [
      "50000it [00:03, 15663.94it/s]\n"
     ]
    }
   ],
   "source": [
    "batch_size = 128\n",
    "num_epochs = 5\n",
    "save_every = 1\n",
    "print_every = 100\n",
    "log_file = 'training_log.txt'\n",
    "\n",
    "transform_train = transforms.Compose([\n",
    "    transforms.RandomHorizontalFlip(),\n",
    "    transforms.RandomVerticalFlip(),\n",
    "    transforms.ToTensor()\n",
    "])\n",
    "\n",
    "train_data_loader = get_loader(transform = transform_train,\n",
    "                              mode = 'train', batch_size = batch_size, data_folder = './data')"
   ]
  },
  {
   "cell_type": "code",
   "execution_count": 3,
   "metadata": {},
   "outputs": [],
   "source": [
    "resnet_fine = ResNetCIFAR(image_channels = 3, num_classes = 100, expansion = 1, num_blocks_per_layer = 2)\n",
    "resnet_coarse = ResNetCIFAR(image_channels = 3, num_classes = 20, expansion = 1, num_blocks_per_layer = 2)"
   ]
  },
  {
   "cell_type": "code",
   "execution_count": 4,
   "metadata": {},
   "outputs": [],
   "source": [
    "device = torch.device(\"cuda\" if torch.cuda.is_available() else \"cpu\")\n",
    "resnet_fine.to(device)\n",
    "resnet_coarse.to(device)\n",
    "\n",
    "criterion_fine = nn.CrossEntropyLoss().cuda() if torch.cuda.is_available() else nn.CrossEntropyLoss()\n",
    "criterion_coarse = nn.CrossEntropyLoss().cuda() if torch.cuda.is_available() else nn.CrossEntropyLoss()\n",
    "\n",
    "\n",
    "optimizer_fine = optim.Adam(resnet_fine.parameters(), lr = 0.001)\n",
    "optimizer_coarse = optim.Adam(resnet_coarse.parameters(), lr = 0.001)\n",
    "\n",
    "total_step = math.ceil(len(train_data_loader.dataset.cifar.file_names) / train_data_loader.batch_sampler.batch_size)"
   ]
  },
  {
   "cell_type": "code",
   "execution_count": 5,
   "metadata": {},
   "outputs": [],
   "source": [
    "import torch.utils.data as data\n",
    "import numpy as np\n",
    "import requests\n",
    "import time"
   ]
  },
  {
   "cell_type": "code",
   "execution_count": 11,
   "metadata": {},
   "outputs": [
    {
     "name": "stdout",
     "output_type": "stream",
     "text": [
      "Epoch [1/3], Step [100/391], Fine Loss: 0.0011, Perplexity: 1.001105\n",
      "Epoch [1/3], Step [100/391], Coarse Loss: 0.0005, Perplexity: 1.0005\n",
      "Epoch [1/3], Step [200/391], Fine Loss: 0.0009, Perplexity: 1.000904\n",
      "Epoch [1/3], Step [200/391], Coarse Loss: 0.0004, Perplexity: 1.0004\n",
      "Epoch [1/3], Step [300/391], Fine Loss: 0.0008, Perplexity: 1.000803\n",
      "Epoch [1/3], Step [300/391], Coarse Loss: 0.0003, Perplexity: 1.0003\n",
      "Epoch [2/3], Step [100/391], Fine Loss: 0.0006, Perplexity: 1.000602\n",
      "Epoch [2/3], Step [100/391], Coarse Loss: 0.0002, Perplexity: 1.0002\n",
      "Epoch [2/3], Step [200/391], Fine Loss: 0.0005, Perplexity: 1.000502\n",
      "Epoch [2/3], Step [200/391], Coarse Loss: 0.0002, Perplexity: 1.0002\n",
      "Epoch [2/3], Step [300/391], Fine Loss: 0.0004, Perplexity: 1.000402\n",
      "Epoch [2/3], Step [300/391], Coarse Loss: 0.0002, Perplexity: 1.0002\n",
      "Epoch [3/3], Step [100/391], Fine Loss: 0.0003, Perplexity: 1.000301\n",
      "Epoch [3/3], Step [100/391], Coarse Loss: 0.0001, Perplexity: 1.0001\n",
      "Epoch [3/3], Step [200/391], Fine Loss: 0.0003, Perplexity: 1.000301\n",
      "Epoch [3/3], Step [200/391], Coarse Loss: 0.0001, Perplexity: 1.0001\n",
      "Epoch [3/3], Step [300/391], Fine Loss: 0.0003, Perplexity: 1.000301\n",
      "Epoch [3/3], Step [300/391], Coarse Loss: 0.0001, Perplexity: 1.0001\n",
      "Epoch [3/3], Step [391/391], Coarse Loss: 0.0001, Perplexity: 1.0001"
     ]
    }
   ],
   "source": [
    "f = open(log_file, 'w')\n",
    "\n",
    "start_time = time.time()\n",
    "\n",
    "for epoch in range(1, num_epochs + 1):\n",
    "    for i_step in range(1, total_step + 1):\n",
    "        # Obtain the batch\n",
    "        images, fine_labels, coarse_labels = next(iter(train_data_loader))\n",
    "        \n",
    "        # move the batch to GPU if cuda if available\n",
    "        images, fine_labels, coarse_labels = images.to(device), fine_labels.to(device), coarse_labels.to(device)\n",
    "        \n",
    "        # zero the gradients\n",
    "        resnet_fine.zero_grad()\n",
    "        resnet_coarse.zero_grad()\n",
    "        \n",
    "        # pass the input through the ResNet model\n",
    "        output_fine = resnet_fine(images)\n",
    "        output_coarse = resnet_coarse(images)\n",
    "        \n",
    "        # Calculate the batch loss\n",
    "        loss_fine = criterion_fine(output_fine, fine_labels)\n",
    "        loss_coarse = criterion_coarse(output_coarse, coarse_labels)\n",
    "        \n",
    "        # Backward pass\n",
    "        loss_fine.backward()\n",
    "        loss_coarse.backward()\n",
    "        \n",
    "        # Update the parameters in the optimizer\n",
    "        optimizer_fine.step()\n",
    "        optimizer_coarse.step()\n",
    "        \n",
    "        # get training statistics\n",
    "        stats_fine = 'Epoch [%d/%d], Step [%d/%d], Fine Loss: %.4f, Perplexity: %5.4f' % (epoch, num_epochs, i_step, \n",
    "                                                                                     total_step, loss_fine.item(),\n",
    "                                                                                    np.exp(loss_fine.item()))\n",
    "        stats_coarse = 'Epoch [%d/%d], Step [%d/%d], Coarse Loss: %.4f, Perplexity: %5.4f' % (epoch, num_epochs, i_step, \n",
    "                                                                                     total_step, loss_coarse.item(),\n",
    "                                                                                    np.exp(loss_coarse.item()))\n",
    "        \n",
    "        # Print training statistics (on same line)\n",
    "        print('\\r' + stats_fine, end = \"\")\n",
    "        print('\\r' + stats_coarse, end = \"\")\n",
    "        sys.stdout.flush()\n",
    "        \n",
    "        # Print training statistics to file\n",
    "        f.write(stats_fine + '\\n')\n",
    "        f.write(stats_coarse + '\\n')\n",
    "        f.flush()\n",
    "        \n",
    "        # Print training statistics (every print_every lines)\n",
    "        if i_step % print_every == 0:\n",
    "            print('\\r' + stats_fine)\n",
    "            print('\\r' + stats_coarse)\n",
    "\n",
    "            \n",
    "    if not os.path.exists(os.path.join(os.getcwd(), 'models')):\n",
    "        os.mkdir(os.path.join(os.getcwd(), 'models'))\n",
    "        \n",
    "    if epoch % save_every == 0:\n",
    "        torch.save(resnet_fine.state_dict(), os.path.join(os.getcwd(), 'models/resnet_fine-%d.pkl' % epoch))\n",
    "        torch.save(resnet_coarse.state_dict(), os.path.join(os.getcwd(), 'models/resnet_coarse-%d.pkl' % epoch))\n",
    "f.close()"
   ]
  },
  {
   "cell_type": "code",
   "execution_count": 52,
   "metadata": {},
   "outputs": [
    {
     "name": "stdout",
     "output_type": "stream",
     "text": [
      "\r",
      " asdf\n"
     ]
    }
   ],
   "source": [
    "print('\\r')"
   ]
  }
 ],
 "metadata": {
  "kernelspec": {
   "display_name": "Python 3",
   "language": "python",
   "name": "python3"
  },
  "language_info": {
   "codemirror_mode": {
    "name": "ipython",
    "version": 3
   },
   "file_extension": ".py",
   "mimetype": "text/x-python",
   "name": "python",
   "nbconvert_exporter": "python",
   "pygments_lexer": "ipython3",
   "version": "3.7.3"
  }
 },
 "nbformat": 4,
 "nbformat_minor": 4
}
