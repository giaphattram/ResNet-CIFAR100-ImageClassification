{
 "cells": [
  {
   "cell_type": "code",
   "execution_count": 77,
   "metadata": {},
   "outputs": [],
   "source": [
    "def unpickle(file):\n",
    "    '''\n",
    "        Unpickle image data file downloaded from https://www.cs.toronto.edu/~kriz/cifar.html\n",
    "    '''\n",
    "    import pickle\n",
    "    with open(file, 'rb') as fo:\n",
    "        dict = pickle.load(fo, encoding = 'bytes')\n",
    "    return dict\n"
   ]
  },
  {
   "cell_type": "code",
   "execution_count": 132,
   "metadata": {},
   "outputs": [
    {
     "name": "stdout",
     "output_type": "stream",
     "text": [
      "Keys in train_dict:  ['filenames', 'batch_label', 'fine_labels', 'coarse_labels', 'data']\n",
      "Example file name:  bos_taurus_s_000507.png\n",
      "Unique fine labels:  [0, 1, 2, 3, 4, 5, 6, 7, 8, 9, 10, 11, 12, 13, 14, 15, 16, 17, 18, 19, 20, 21, 22, 23, 24, 25, 26, 27, 28, 29, 30, 31, 32, 33, 34, 35, 36, 37, 38, 39, 40, 41, 42, 43, 44, 45, 46, 47, 48, 49, 50, 51, 52, 53, 54, 55, 56, 57, 58, 59, 60, 61, 62, 63, 64, 65, 66, 67, 68, 69, 70, 71, 72, 73, 74, 75, 76, 77, 78, 79, 80, 81, 82, 83, 84, 85, 86, 87, 88, 89, 90, 91, 92, 93, 94, 95, 96, 97, 98, 99]\n",
      "Verify that fine labels are integers 0-99:  True\n",
      "Unique coarse labels:  {0, 1, 2, 3, 4, 5, 6, 7, 8, 9, 10, 11, 12, 13, 14, 15, 16, 17, 18, 19}\n",
      "Verify that coarse labels are integers from 0-19:  True\n"
     ]
    }
   ],
   "source": [
    "train_dict = unpickle('./cifar-100-python/train')\n",
    "print('Keys in train_dict: ', [key.decode('utf-8') for key in train_dict.keys()])\n",
    "train_filenames = [filename.decode('utf-8') for filename in train_dict[b'filenames']]\n",
    "train_fine_labels = train_dict[b'fine_labels']\n",
    "train_coarse_labels = train_dict[b'coarse_labels']\n",
    "train_images = train_dict[b'data']\n",
    "img_idx = 0\n",
    "print(\"Example file name: \", train_filenames[img_idx])\n",
    "print(\"Unique fine labels: \", sorted(set(train_fine_labels)))\n",
    "print(\"Verify that fine labels are integers 0-99: \", all([each1 == each2 for each1, each2 in zip(sorted(list(set(train_fine_labels))), range(0,100))]))\n",
    "print(\"Unique coarse labels: \", set(train_coarse_labels))\n",
    "print(\"Verify that coarse labels are integers from 0-19: \", all([each1 == each2 for each1, each2 in zip(sorted(list(set(train_coarse_labels))), range(0,100))]))"
   ]
  },
  {
   "cell_type": "markdown",
   "metadata": {},
   "source": [
    "## Data is downloaded from https://www.cs.toronto.edu/~kriz/cifar.html\n",
    "## Exploring download content"
   ]
  },
  {
   "cell_type": "code",
   "execution_count": 68,
   "metadata": {},
   "outputs": [
    {
     "name": "stdout",
     "output_type": "stream",
     "text": [
      "Download Files:  ['file.txt~', 'meta', 'test', 'train']\n"
     ]
    },
    {
     "ename": "UnicodeDecodeError",
     "evalue": "'utf-8' codec can't decode byte 0xff in position 0: invalid start byte",
     "output_type": "error",
     "traceback": [
      "\u001b[1;31m---------------------------------------------------------------------------\u001b[0m",
      "\u001b[1;31mUnicodeDecodeError\u001b[0m                        Traceback (most recent call last)",
      "\u001b[1;32m<ipython-input-68-4547ee17dcf1>\u001b[0m in \u001b[0;36m<module>\u001b[1;34m\u001b[0m\n\u001b[0;32m      3\u001b[0m \u001b[1;33m\u001b[0m\u001b[0m\n\u001b[0;32m      4\u001b[0m \u001b[0mfile\u001b[0m \u001b[1;33m=\u001b[0m \u001b[1;34m'./cifar-100-python/train'\u001b[0m\u001b[1;33m\u001b[0m\u001b[1;33m\u001b[0m\u001b[0m\n\u001b[1;32m----> 5\u001b[1;33m \u001b[0mtrain\u001b[0m \u001b[1;33m=\u001b[0m \u001b[0munpickle\u001b[0m\u001b[1;33m(\u001b[0m\u001b[0mfile\u001b[0m\u001b[1;33m)\u001b[0m\u001b[1;33m\u001b[0m\u001b[1;33m\u001b[0m\u001b[0m\n\u001b[0m\u001b[0;32m      6\u001b[0m \u001b[0mtest\u001b[0m \u001b[1;33m=\u001b[0m \u001b[0munpickle\u001b[0m\u001b[1;33m(\u001b[0m\u001b[0mmeta\u001b[0m\u001b[1;33m)\u001b[0m\u001b[1;33m\u001b[0m\u001b[1;33m\u001b[0m\u001b[0m\n",
      "\u001b[1;32m<ipython-input-67-a01fabdf1a82>\u001b[0m in \u001b[0;36munpickle\u001b[1;34m(file)\u001b[0m\n\u001b[0;32m      5\u001b[0m     \u001b[1;32mimport\u001b[0m \u001b[0mpickle\u001b[0m\u001b[1;33m\u001b[0m\u001b[1;33m\u001b[0m\u001b[0m\n\u001b[0;32m      6\u001b[0m     \u001b[1;32mwith\u001b[0m \u001b[0mopen\u001b[0m\u001b[1;33m(\u001b[0m\u001b[0mfile\u001b[0m\u001b[1;33m,\u001b[0m \u001b[1;34m'rb'\u001b[0m\u001b[1;33m)\u001b[0m \u001b[1;32mas\u001b[0m \u001b[0mfo\u001b[0m\u001b[1;33m:\u001b[0m\u001b[1;33m\u001b[0m\u001b[1;33m\u001b[0m\u001b[0m\n\u001b[1;32m----> 7\u001b[1;33m         \u001b[0mdict\u001b[0m \u001b[1;33m=\u001b[0m \u001b[0mpickle\u001b[0m\u001b[1;33m.\u001b[0m\u001b[0mload\u001b[0m\u001b[1;33m(\u001b[0m\u001b[0mfo\u001b[0m\u001b[1;33m,\u001b[0m \u001b[0mencoding\u001b[0m \u001b[1;33m=\u001b[0m \u001b[1;34m'utf-8'\u001b[0m\u001b[1;33m)\u001b[0m\u001b[1;33m\u001b[0m\u001b[1;33m\u001b[0m\u001b[0m\n\u001b[0m\u001b[0;32m      8\u001b[0m     \u001b[1;32mreturn\u001b[0m \u001b[0mdict\u001b[0m\u001b[1;33m\u001b[0m\u001b[1;33m\u001b[0m\u001b[0m\n",
      "\u001b[1;31mUnicodeDecodeError\u001b[0m: 'utf-8' codec can't decode byte 0xff in position 0: invalid start byte"
     ]
    }
   ],
   "source": [
    "import os\n",
    "print('Download Files: ', [file for file in os.listdir('./cifar-100-python')])\n",
    "\n",
    "file = \n",
    "\n",
    "test = unpickle(meta)"
   ]
  },
  {
   "cell_type": "code",
   "execution_count": 148,
   "metadata": {},
   "outputs": [
    {
     "data": {
      "text/plain": [
       "{b'fine_label_names': [b'apple',\n",
       "  b'aquarium_fish',\n",
       "  b'baby',\n",
       "  b'bear',\n",
       "  b'beaver',\n",
       "  b'bed',\n",
       "  b'bee',\n",
       "  b'beetle',\n",
       "  b'bicycle',\n",
       "  b'bottle',\n",
       "  b'bowl',\n",
       "  b'boy',\n",
       "  b'bridge',\n",
       "  b'bus',\n",
       "  b'butterfly',\n",
       "  b'camel',\n",
       "  b'can',\n",
       "  b'castle',\n",
       "  b'caterpillar',\n",
       "  b'cattle',\n",
       "  b'chair',\n",
       "  b'chimpanzee',\n",
       "  b'clock',\n",
       "  b'cloud',\n",
       "  b'cockroach',\n",
       "  b'couch',\n",
       "  b'crab',\n",
       "  b'crocodile',\n",
       "  b'cup',\n",
       "  b'dinosaur',\n",
       "  b'dolphin',\n",
       "  b'elephant',\n",
       "  b'flatfish',\n",
       "  b'forest',\n",
       "  b'fox',\n",
       "  b'girl',\n",
       "  b'hamster',\n",
       "  b'house',\n",
       "  b'kangaroo',\n",
       "  b'keyboard',\n",
       "  b'lamp',\n",
       "  b'lawn_mower',\n",
       "  b'leopard',\n",
       "  b'lion',\n",
       "  b'lizard',\n",
       "  b'lobster',\n",
       "  b'man',\n",
       "  b'maple_tree',\n",
       "  b'motorcycle',\n",
       "  b'mountain',\n",
       "  b'mouse',\n",
       "  b'mushroom',\n",
       "  b'oak_tree',\n",
       "  b'orange',\n",
       "  b'orchid',\n",
       "  b'otter',\n",
       "  b'palm_tree',\n",
       "  b'pear',\n",
       "  b'pickup_truck',\n",
       "  b'pine_tree',\n",
       "  b'plain',\n",
       "  b'plate',\n",
       "  b'poppy',\n",
       "  b'porcupine',\n",
       "  b'possum',\n",
       "  b'rabbit',\n",
       "  b'raccoon',\n",
       "  b'ray',\n",
       "  b'road',\n",
       "  b'rocket',\n",
       "  b'rose',\n",
       "  b'sea',\n",
       "  b'seal',\n",
       "  b'shark',\n",
       "  b'shrew',\n",
       "  b'skunk',\n",
       "  b'skyscraper',\n",
       "  b'snail',\n",
       "  b'snake',\n",
       "  b'spider',\n",
       "  b'squirrel',\n",
       "  b'streetcar',\n",
       "  b'sunflower',\n",
       "  b'sweet_pepper',\n",
       "  b'table',\n",
       "  b'tank',\n",
       "  b'telephone',\n",
       "  b'television',\n",
       "  b'tiger',\n",
       "  b'tractor',\n",
       "  b'train',\n",
       "  b'trout',\n",
       "  b'tulip',\n",
       "  b'turtle',\n",
       "  b'wardrobe',\n",
       "  b'whale',\n",
       "  b'willow_tree',\n",
       "  b'wolf',\n",
       "  b'woman',\n",
       "  b'worm'],\n",
       " b'coarse_label_names': [b'aquatic_mammals',\n",
       "  b'fish',\n",
       "  b'flowers',\n",
       "  b'food_containers',\n",
       "  b'fruit_and_vegetables',\n",
       "  b'household_electrical_devices',\n",
       "  b'household_furniture',\n",
       "  b'insects',\n",
       "  b'large_carnivores',\n",
       "  b'large_man-made_outdoor_things',\n",
       "  b'large_natural_outdoor_scenes',\n",
       "  b'large_omnivores_and_herbivores',\n",
       "  b'medium_mammals',\n",
       "  b'non-insect_invertebrates',\n",
       "  b'people',\n",
       "  b'reptiles',\n",
       "  b'small_mammals',\n",
       "  b'trees',\n",
       "  b'vehicles_1',\n",
       "  b'vehicles_2']}"
      ]
     },
     "execution_count": 148,
     "metadata": {},
     "output_type": "execute_result"
    }
   ],
   "source": [
    "unpickle('./cifar-100-python/meta')"
   ]
  }
 ],
 "metadata": {
  "kernelspec": {
   "display_name": "Python 3",
   "language": "python",
   "name": "python3"
  },
  "language_info": {
   "codemirror_mode": {
    "name": "ipython",
    "version": 3
   },
   "file_extension": ".py",
   "mimetype": "text/x-python",
   "name": "python",
   "nbconvert_exporter": "python",
   "pygments_lexer": "ipython3",
   "version": "3.7.3"
  }
 },
 "nbformat": 4,
 "nbformat_minor": 4
}
